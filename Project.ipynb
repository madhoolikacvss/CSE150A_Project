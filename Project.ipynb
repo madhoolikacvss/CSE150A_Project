{
  "nbformat": 4,
  "nbformat_minor": 0,
  "metadata": {
    "colab": {
      "provenance": []
    },
    "kernelspec": {
      "name": "python3",
      "display_name": "Python 3"
    },
    "language_info": {
      "name": "python"
    }
  },
  "cells": [
    {
      "cell_type": "code",
      "execution_count": null,
      "metadata": {
        "id": "6q2F38mEpgKR",
        "colab": {
          "base_uri": "https://localhost:8080/"
        },
        "outputId": "a94d2110-b17b-4f6c-9212-67ca5e3381d1"
      },
      "outputs": [
        {
          "output_type": "stream",
          "name": "stdout",
          "text": [
            "Collecting tabula-py\n",
            "  Downloading tabula_py-2.10.0-py3-none-any.whl.metadata (7.6 kB)\n",
            "Requirement already satisfied: pandas>=0.25.3 in /usr/local/lib/python3.10/dist-packages (from tabula-py) (2.2.2)\n",
            "Requirement already satisfied: numpy>1.24.4 in /usr/local/lib/python3.10/dist-packages (from tabula-py) (1.26.4)\n",
            "Requirement already satisfied: distro in /usr/local/lib/python3.10/dist-packages (from tabula-py) (1.9.0)\n",
            "Requirement already satisfied: python-dateutil>=2.8.2 in /usr/local/lib/python3.10/dist-packages (from pandas>=0.25.3->tabula-py) (2.8.2)\n",
            "Requirement already satisfied: pytz>=2020.1 in /usr/local/lib/python3.10/dist-packages (from pandas>=0.25.3->tabula-py) (2024.2)\n",
            "Requirement already satisfied: tzdata>=2022.7 in /usr/local/lib/python3.10/dist-packages (from pandas>=0.25.3->tabula-py) (2024.2)\n",
            "Requirement already satisfied: six>=1.5 in /usr/local/lib/python3.10/dist-packages (from python-dateutil>=2.8.2->pandas>=0.25.3->tabula-py) (1.16.0)\n",
            "Downloading tabula_py-2.10.0-py3-none-any.whl (12.0 MB)\n",
            "\u001b[2K   \u001b[90m━━━━━━━━━━━━━━━━━━━━━━━━━━━━━━━━━━━━━━━━\u001b[0m \u001b[32m12.0/12.0 MB\u001b[0m \u001b[31m47.9 MB/s\u001b[0m eta \u001b[36m0:00:00\u001b[0m\n",
            "\u001b[?25hInstalling collected packages: tabula-py\n",
            "Successfully installed tabula-py-2.10.0\n",
            "Collecting pdfplumber\n",
            "  Downloading pdfplumber-0.11.4-py3-none-any.whl.metadata (41 kB)\n",
            "\u001b[2K     \u001b[90m━━━━━━━━━━━━━━━━━━━━━━━━━━━━━━━━━━━━━━━━\u001b[0m \u001b[32m42.0/42.0 kB\u001b[0m \u001b[31m2.4 MB/s\u001b[0m eta \u001b[36m0:00:00\u001b[0m\n",
            "\u001b[?25hCollecting pdfminer.six==20231228 (from pdfplumber)\n",
            "  Downloading pdfminer.six-20231228-py3-none-any.whl.metadata (4.2 kB)\n",
            "Requirement already satisfied: Pillow>=9.1 in /usr/local/lib/python3.10/dist-packages (from pdfplumber) (11.0.0)\n",
            "Collecting pypdfium2>=4.18.0 (from pdfplumber)\n",
            "  Downloading pypdfium2-4.30.0-py3-none-manylinux_2_17_x86_64.manylinux2014_x86_64.whl.metadata (48 kB)\n",
            "\u001b[2K     \u001b[90m━━━━━━━━━━━━━━━━━━━━━━━━━━━━━━━━━━━━━━━━\u001b[0m \u001b[32m48.5/48.5 kB\u001b[0m \u001b[31m1.8 MB/s\u001b[0m eta \u001b[36m0:00:00\u001b[0m\n",
            "\u001b[?25hRequirement already satisfied: charset-normalizer>=2.0.0 in /usr/local/lib/python3.10/dist-packages (from pdfminer.six==20231228->pdfplumber) (3.4.0)\n",
            "Requirement already satisfied: cryptography>=36.0.0 in /usr/local/lib/python3.10/dist-packages (from pdfminer.six==20231228->pdfplumber) (43.0.3)\n",
            "Requirement already satisfied: cffi>=1.12 in /usr/local/lib/python3.10/dist-packages (from cryptography>=36.0.0->pdfminer.six==20231228->pdfplumber) (1.17.1)\n",
            "Requirement already satisfied: pycparser in /usr/local/lib/python3.10/dist-packages (from cffi>=1.12->cryptography>=36.0.0->pdfminer.six==20231228->pdfplumber) (2.22)\n",
            "Downloading pdfplumber-0.11.4-py3-none-any.whl (59 kB)\n",
            "\u001b[2K   \u001b[90m━━━━━━━━━━━━━━━━━━━━━━━━━━━━━━━━━━━━━━━━\u001b[0m \u001b[32m59.2/59.2 kB\u001b[0m \u001b[31m4.0 MB/s\u001b[0m eta \u001b[36m0:00:00\u001b[0m\n",
            "\u001b[?25hDownloading pdfminer.six-20231228-py3-none-any.whl (5.6 MB)\n",
            "\u001b[2K   \u001b[90m━━━━━━━━━━━━━━━━━━━━━━━━━━━━━━━━━━━━━━━━\u001b[0m \u001b[32m5.6/5.6 MB\u001b[0m \u001b[31m34.2 MB/s\u001b[0m eta \u001b[36m0:00:00\u001b[0m\n",
            "\u001b[?25hDownloading pypdfium2-4.30.0-py3-none-manylinux_2_17_x86_64.manylinux2014_x86_64.whl (2.8 MB)\n",
            "\u001b[2K   \u001b[90m━━━━━━━━━━━━━━━━━━━━━━━━━━━━━━━━━━━━━━━━\u001b[0m \u001b[32m2.8/2.8 MB\u001b[0m \u001b[31m40.9 MB/s\u001b[0m eta \u001b[36m0:00:00\u001b[0m\n",
            "\u001b[?25hInstalling collected packages: pypdfium2, pdfminer.six, pdfplumber\n",
            "Successfully installed pdfminer.six-20231228 pdfplumber-0.11.4 pypdfium2-4.30.0\n",
            "Collecting jpype1\n",
            "  Downloading jpype1-1.5.1-cp310-cp310-manylinux_2_17_x86_64.manylinux2014_x86_64.whl.metadata (4.9 kB)\n",
            "Requirement already satisfied: packaging in /usr/local/lib/python3.10/dist-packages (from jpype1) (24.2)\n",
            "Downloading jpype1-1.5.1-cp310-cp310-manylinux_2_17_x86_64.manylinux2014_x86_64.whl (493 kB)\n",
            "\u001b[2K   \u001b[90m━━━━━━━━━━━━━━━━━━━━━━━━━━━━━━━━━━━━━━━━\u001b[0m \u001b[32m493.8/493.8 kB\u001b[0m \u001b[31m7.3 MB/s\u001b[0m eta \u001b[36m0:00:00\u001b[0m\n",
            "\u001b[?25h"
          ]
        }
      ],
      "source": [
        "!pip install tabula-py\n",
        "!pip install pdfplumber\n",
        "!pip install jpype1\n",
        "\n",
        "import seaborn as sns\n",
        "import numpy as np\n",
        "import pandas as pd\n",
        "import matplotlib.pyplot as plt\n",
        "import os\n",
        "from tabula import read_pdf"
      ]
    },
    {
      "cell_type": "code",
      "source": [
        "!git clone https://github.com/madhoolikacvss/CSE151A_Project.git\n"
      ],
      "metadata": {
        "id": "3L48X4_uRnpK"
      },
      "execution_count": null,
      "outputs": []
    },
    {
      "cell_type": "markdown",
      "source": [],
      "metadata": {
        "id": "ueAtmdHqSsUS"
      }
    },
    {
      "cell_type": "code",
      "source": [
        "!cd CSE151A_Project && git pull"
      ],
      "metadata": {
        "id": "996lJDSmfH5c"
      },
      "execution_count": null,
      "outputs": []
    },
    {
      "cell_type": "code",
      "source": [
        "# CROP is Zooplankton data from 2000 to 2021\n",
        "fdf = read_pdf(\"/content/CSE151A_Project/ZooDBCrop.pdf\",pages = \"all\", lattice = True)\n",
        "print(\"shape of fdf: \",len(fdf[0]))\n",
        "for i in range(len(fdf)):\n",
        "  print(len(fdf[i].columns))\n",
        "  print(fdf[i].columns)\n",
        "\n",
        "headers = ['Cruise', 'Ship', 'Date', 'Line', 'Station', 'Region', 'TowBegin', 'TowEnd', 'Latitude', 'Longitude', 'Abundance', 'Tows', 'Source']\n",
        "cleaned_dfs = []\n",
        "for df in fdf:\n",
        "    df.columns = headers\n",
        "    cleaned_dfs.append(df)\n",
        "combined_df = pd.concat(cleaned_dfs, ignore_index=True)"
      ],
      "metadata": {
        "id": "vpZ3NWTauxEm"
      },
      "execution_count": null,
      "outputs": []
    },
    {
      "cell_type": "code",
      "source": [
        "# CROP2 is Zooplankton data from 1980 to 1999\n",
        "fdf2 = read_pdf(\"/content/CSE151A_Project/ZooDBCrop2.pdf\",pages = \"all\", lattice = True)\n",
        "print(\"shape of fdf: \",len(fdf[0]))\n",
        "for i in range(len(fdf2)):\n",
        "  print(len(fdf2[i].columns))\n",
        "  print(fdf2[i].columns)\n",
        "\n",
        "headers = ['Cruise', 'Ship', 'Date', 'Line', 'Station', 'Region', 'TowBegin', 'TowEnd', 'Latitude', 'Longitude', 'Abundance', 'Tows', 'Source']\n",
        "cleaned_dfs2 = []\n",
        "for df in fdf2:\n",
        "    df.columns = headers\n",
        "    cleaned_dfs2.append(df)\n",
        "combined_df2 = pd.concat(cleaned_dfs2, ignore_index=True)"
      ],
      "metadata": {
        "id": "q9EWC9PeiZQP"
      },
      "execution_count": null,
      "outputs": []
    },
    {
      "cell_type": "code",
      "source": [
        "dataset = pd.concat([combined_df, combined_df2], axis=0, ignore_index=True)\n",
        "print(\"shape:\",dataset.shape)"
      ],
      "metadata": {
        "id": "ojrYSWDxvEAc"
      },
      "execution_count": null,
      "outputs": []
    },
    {
      "cell_type": "code",
      "source": [
        "# These columns all have N/A value. So we have to drop them.\n",
        "dataset = dataset.drop(columns=['Tows','TowBegin', 'Ship', 'Source', 'Line',\t'TowEnd', 'Longitude', 'Cruise', 'Station',\t'Latitude'])\n",
        "dataset = dataset.dropna()"
      ],
      "metadata": {
        "id": "BrLBM-0T7p5l"
      },
      "execution_count": null,
      "outputs": []
    },
    {
      "cell_type": "code",
      "source": [
        "dataset"
      ],
      "metadata": {
        "id": "h56Y1Ol0j8zY"
      },
      "execution_count": null,
      "outputs": []
    },
    {
      "cell_type": "markdown",
      "source": [
        "The data in the column Region is one of the two values 'SC' or 'CC'. It has no order so using One - Hot Encoding. We can use 1 for 'SC' and 0 for 'CC', but by doing this we are giving an order to these values where there is no true zero. That is why we are prefering One Hot Encoding as this data is nominal."
      ],
      "metadata": {
        "id": "ad97RBJQ1P5-"
      }
    },
    {
      "cell_type": "code",
      "source": [
        "# Binary Encoding\n",
        "dataset = pd.get_dummies(dataset, columns=['Region'])\n",
        "dataset['Region'] = dataset['Region_SC']\n",
        "dataset.drop(['Region_CC', 'Region_SC'], axis=1, inplace=True)\n",
        "dataset['Region'] = dataset['Region'].astype(int)\n",
        "dataset"
      ],
      "metadata": {
        "id": "2wnIBDHG2quq"
      },
      "execution_count": null,
      "outputs": []
    },
    {
      "cell_type": "code",
      "source": [
        "# The Date column has \"\\r\" in the date, which is irrelevant so we are cleaning it by replacing \"\\r\" with an empty string.\n",
        "dataset['Date'] = dataset['Date'].str.replace(\"\\r\", \"\", regex=False)\n",
        "dataset['Year'] = dataset['Date'].str.extract(r'(\\d{4})')\n",
        "dataset"
      ],
      "metadata": {
        "id": "-VgpxI3hdFQJ"
      },
      "execution_count": null,
      "outputs": []
    },
    {
      "cell_type": "code",
      "source": [
        "dataset.info()\n",
        "dataset"
      ],
      "metadata": {
        "id": "UNW8YonbnENS"
      },
      "execution_count": null,
      "outputs": []
    },
    {
      "cell_type": "code",
      "source": [
        "# Converting the date into fractional year format so this can be used in the Abundance model\n",
        "dataset['Date'] = pd.to_datetime(dataset['Date'])\n",
        "\n",
        "dataset['Fractional_Year'] = (\n",
        "    dataset['Date'].dt.year\n",
        "    + (dataset['Date'].dt.dayofyear - 1)\n",
        "    / dataset['Date'].dt.is_leap_year.apply(lambda x: 366 if x else 365)\n",
        ")\n",
        "dataset"
      ],
      "metadata": {
        "id": "cJ8LsaIheauq"
      },
      "execution_count": null,
      "outputs": []
    },
    {
      "cell_type": "code",
      "source": [
        "dataset['Abundance'] = dataset['Abundance'].str.replace(',', '', regex=False)\n",
        "dataset['Abundance'] = pd.to_numeric(dataset['Abundance'], errors='coerce')"
      ],
      "metadata": {
        "id": "kn1J-hobAao5"
      },
      "execution_count": null,
      "outputs": []
    },
    {
      "cell_type": "code",
      "source": [
        "dataset"
      ],
      "metadata": {
        "id": "vcLUW8L4A5qh"
      },
      "execution_count": null,
      "outputs": []
    },
    {
      "cell_type": "code",
      "source": [
        "#Pairplot\n",
        "sns.pairplot(dataset, vars=[\"Region\", \"Abundance\"], hue=\"Year\", palette=\"viridis\")\n",
        "# Color coded by Date, can change to other column to observe chnages from different perspectives\n",
        "plt.suptitle(\"Pair Plot of ZOODBC\", y=1)\n",
        "plt.show()"
      ],
      "metadata": {
        "id": "8JXJcmTvro6Z"
      },
      "execution_count": null,
      "outputs": []
    },
    {
      "cell_type": "code",
      "source": [
        "matrix = dataset.corr()\n",
        "sns.heatmap(matrix, annot=True, cmap=\"coolwarm\", vmin=-1, vmax=1, square=True)\n",
        "plt.title(\"Correlation Heatmap of ZOODBC\")\n",
        "plt.show()"
      ],
      "metadata": {
        "id": "xkAOleKKwZNE"
      },
      "execution_count": null,
      "outputs": []
    },
    {
      "cell_type": "markdown",
      "source": [
        "# Abundance Model\n",
        "So our first dataset that contains columns 'Abundance' and 'Year' has only 62 rows where as our second dataset has 1374 rows. We want to use the columns/ features such as \"Depth\", \"Salinity\", \"Temp\", \"d13C-DIC\", \"DIC\", \"ALK\" from the second dataset to predict the 'Abundance'.\n",
        "\n",
        "The problem we have now is that we have to map the 'Abundance' from 62 rows(62 different points of time) to the 1374 samples in the second dataset. For this we have to assign a value for each of these samples based on the year (calculated from date) and assign an 'Abundance' value to that sample.\n",
        "\n",
        "So we have created a regression model that predicts the 'Abundance' given a 'Year' based on our first dataset and assign the predict values of 'Abundance' to the corresponding samples in the second dataset.\n",
        "\n",
        "## Why a model instead of directly mapping the 'Abundance' from the first dataset?\n",
        "\n",
        "While we can just map the 'Abundance' from the first dataset, for instance the value of 'Abundance' in the year 2000 is 30910.5 and we can assign 30910.5 as the Abundance to all the samples from the second dataset with year 2000, it is not the best solution we can have as we assign the same Abundance values to all the samples in the same year.\n",
        "\n",
        "To solve this, we plan on further improving the model in Milestone 4 by predicting 'Abundance' based on the date so we can get different 'Abundance' values for different samples belonging to the same year. This can be done by using a fractional year format for the dates such as June 22, 1989 can be 1989.474 .\n",
        "\n",
        "For this reason using a model to predict abundance as we can modify it later to adapt to dates instead of year."
      ],
      "metadata": {
        "id": "SRrJ_c1J9huF"
      }
    },
    {
      "cell_type": "markdown",
      "source": [
        "##Milestone 3:Training abundance model - used to train our final model\n",
        "\n",
        "PS: an improved version of this model is below, titled 'Milstone 4 ...'"
      ],
      "metadata": {
        "id": "QeJPDMxgwTRp"
      }
    },
    {
      "cell_type": "code",
      "source": [
        "from sklearn.model_selection import train_test_split\n",
        "from sklearn.linear_model import LinearRegression\n",
        "from sklearn.metrics import mean_squared_error , mean_absolute_error , mean_absolute_percentage_error\n",
        "# Preparing the dataset\n",
        "X = dataset[['Year']]  # Feature\n",
        "y = dataset['Abundance']  # Target\n",
        "\n",
        "# Splitting data into training and testing sets\n",
        "X_train, X_test, y_train, y_test = train_test_split(X, y, test_size=0.2, random_state=42)\n",
        "\n",
        "# Creating and training the linear regression model\n",
        "abundanceModel = LinearRegression()\n",
        "abundanceModel.fit(X_train, y_train)\n",
        "\n",
        "# Making predictions\n",
        "y_pred = abundanceModel.predict(X_test)\n",
        "\n",
        "# Evaluating the model\n",
        "mse = mean_squared_error(y_test, y_pred)\n",
        "mae = mean_absolute_error(y_test, y_pred)\n",
        "maep = mean_absolute_percentage_error(y_test, y_pred)\n",
        "print(f\"Mean Squared Error: {mse}\")\n",
        "print(f\"Mean Absolute Error: {mae}\")\n",
        "print(f\"Mean Absolute Percentage Error: {maep}\")\n",
        "\n",
        "# Displaying the model coefficients\n",
        "print(f\"Intercept: {abundanceModel.intercept_}\")\n",
        "print(f\"Coefficient: {abundanceModel.coef_[0]}\")"
      ],
      "metadata": {
        "id": "agRc_Ce8wRQr"
      },
      "execution_count": null,
      "outputs": []
    },
    {
      "cell_type": "markdown",
      "source": [
        "#DATASET 2 (BATA+BERM+HAWI):"
      ],
      "metadata": {
        "id": "4o4SfiQ-IYTN"
      }
    },
    {
      "cell_type": "markdown",
      "source": [
        "# What is Dataset 2\n",
        "The dataset includes key columns: Station, Depth, Salinity. To facilitate analysis, we applied Min-Max normalization to the continuous variables: Depth, Salinity, Temp, d13C-DIC, DIC, and ALK, scaling them to a range of 0 to 1. This ensures all features can be compared fairly and prevents any single variable from skewing our results.\n",
        "\n",
        "\n",
        "\n",
        "![WhatsApp Image 2024-11-01 at 12.20.19_7607d4f4.jpg](data:image/jpeg;base64,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)"
      ],
      "metadata": {
        "id": "ydsGoK4_DFU0"
      }
    },
    {
      "cell_type": "code",
      "source": [
        "!cd CSE151A_Project/ && ls\n"
      ],
      "metadata": {
        "id": "0K8uCioCGLWV"
      },
      "execution_count": null,
      "outputs": []
    },
    {
      "cell_type": "code",
      "source": [
        "!cd CSE151A_Project && git pull"
      ],
      "metadata": {
        "id": "0WplLwGgPHrv"
      },
      "execution_count": null,
      "outputs": []
    },
    {
      "cell_type": "code",
      "source": [
        "# BATS(1)\n",
        "dataset2 = pd.read_csv('/content/CSE151A_Project/BATS.csv')\n",
        "print(dataset2.columns)\n",
        "\n",
        "# BERM\n",
        "dataset3 = pd.read_csv('/content/CSE151A_Project/BERM.csv')\n",
        "print(dataset3.columns)\n",
        "\n",
        "# HAWI\n",
        "dataset4 = pd.read_csv('/content/CSE151A_Project/HAWI.csv')\n",
        "print(dataset4.columns)\n",
        "\n",
        "combined_dataset = pd.concat([dataset2, dataset3, dataset4], ignore_index=True)"
      ],
      "metadata": {
        "id": "fAREd1Y2OpOl"
      },
      "execution_count": null,
      "outputs": []
    },
    {
      "cell_type": "code",
      "source": [
        "combined_dataset = combined_dataset.drop(columns=['Station', '  Excel', ' Decimal' , 'Date'])\n"
      ],
      "metadata": {
        "id": "zNbT9DxjLk7B"
      },
      "execution_count": null,
      "outputs": []
    },
    {
      "cell_type": "code",
      "source": [
        "combined_dataset\n"
      ],
      "metadata": {
        "id": "ynHNso1OB6VH"
      },
      "execution_count": null,
      "outputs": []
    },
    {
      "cell_type": "code",
      "source": [
        "combined_dataset = combined_dataset.rename(columns={\n",
        "    \" Sample\": \"Sample\",\n",
        "    \" Depth\": \"Depth\",\n",
        "    \"   Salinity\": \"Salinity\",\n",
        "    \"    Temp\": \"Temp\",\n",
        "    \" d13C-DIC\": \"d13C-DIC\",\n",
        "    \"  DIC\": \"DIC\",\n",
        "    \"   ALK\": \"ALK\"\n",
        "})\n"
      ],
      "metadata": {
        "id": "fvVcCf4tIQZf"
      },
      "execution_count": null,
      "outputs": []
    },
    {
      "cell_type": "code",
      "source": [
        "combined_dataset.columns = combined_dataset.columns.str.strip()\n"
      ],
      "metadata": {
        "id": "6p_UD7A-XwJQ"
      },
      "execution_count": null,
      "outputs": []
    },
    {
      "cell_type": "code",
      "source": [
        "# Remove leading and trailing spaces from the 'Sample' column\n",
        "combined_dataset['Sample'] = combined_dataset['Sample'].str.strip()\n",
        "combined_dataset['Date'] = pd.to_datetime(combined_dataset['Sample'], format='%Y-%m-%d')\n",
        "combined_dataset['Year'] = combined_dataset['Sample'].str.extract(r'(\\d{4})')\n",
        "combined_dataset.drop(columns=['Sample'], inplace=True)\n",
        "combined_dataset.columns = combined_dataset.columns.str.strip()\n"
      ],
      "metadata": {
        "id": "JO6qJ2RVUpK2"
      },
      "execution_count": null,
      "outputs": []
    },
    {
      "cell_type": "code",
      "source": [
        "combined_dataset.loc[:,combined_dataset.columns != 'Date'] = combined_dataset.loc[:,combined_dataset.columns != 'Date'].apply(pd.to_numeric, errors='coerce')\n",
        "combined_dataset"
      ],
      "metadata": {
        "id": "qPwbr_YFg47U"
      },
      "execution_count": null,
      "outputs": []
    },
    {
      "cell_type": "code",
      "source": [
        "from scipy.stats import skew\n",
        "\n",
        "columns_of_interest = ['DIC', 'ALK']\n",
        "\n",
        "# Convert columns to numeric values (force errors to NaN if non-numeric)\n",
        "combined_dataset[columns_of_interest] = combined_dataset[columns_of_interest].apply(pd.to_numeric, errors='coerce')\n",
        "\n",
        "# Now plot the histogram with KDE\n",
        "for col in columns_of_interest:\n",
        "    # Plot the histogram with KDE\n",
        "    sns.histplot(combined_dataset[col].dropna(), kde=True, color='skyblue', bins=30)\n",
        "    plt.title(f'Distribution of {col} (Skewness: {skew(combined_dataset[col].dropna()):.2f})')\n",
        "    plt.xlabel(col)\n",
        "    plt.ylabel('Density')\n",
        "    plt.show()\n",
        "\n"
      ],
      "metadata": {
        "id": "ORstabBHYqv5"
      },
      "execution_count": null,
      "outputs": []
    },
    {
      "cell_type": "code",
      "source": [
        "#from Milestone 3: feature expantion, adding a column for the ratio of DIC and ALK - it hels in capturing carbonate equilibrium\n",
        "combined_dataset = combined_dataset[combined_dataset['ALK'] != 0]\n",
        "combined_dataset['DIC_ALK_Ratio'] = combined_dataset['DIC'] / combined_dataset['ALK']\n",
        "\n",
        "combined_dataset"
      ],
      "metadata": {
        "id": "vh7-_4IsSchJ"
      },
      "execution_count": null,
      "outputs": []
    },
    {
      "cell_type": "code",
      "source": [
        "#Pairplot\n",
        "sns.pairplot(combined_dataset, vars=[\"Depth\", \"Salinity\", \"Temp\", \"d13C-DIC\", \"DIC\", \"ALK\"], hue=\"Year\", palette=\"viridis\")\n",
        "# Color coded by Year, can change to other column to observe chnages from different perspectives\n",
        "plt.suptitle(\"Pair Plot of BATS\", y=1)\n",
        "plt.show()"
      ],
      "metadata": {
        "id": "9fDjSYpsmz4w"
      },
      "execution_count": null,
      "outputs": []
    },
    {
      "cell_type": "code",
      "source": [
        "# from sklearn.preprocessing import MinMaxScaler\n",
        "# numeric_columns = ['Depth', 'Salinity', 'Temp', 'd13C-DIC', 'DIC', 'ALK']\n",
        "# combined_dataset[numeric_columns] = combined_dataset.groupby('Year')[numeric_columns].transform(lambda x: x.fillna(x.mean())).infer_objects()\n",
        "\n",
        "# # Apply MinMaxScaler\n",
        "# scaler = MinMaxScaler()\n",
        "# combined_dataset[numeric_columns] = scaler.fit_transform(combined_dataset[numeric_columns])\n"
      ],
      "metadata": {
        "id": "eS3zHvCHfYVL"
      },
      "execution_count": null,
      "outputs": []
    },
    {
      "cell_type": "markdown",
      "source": [
        "#Milestone 3 version: Training our first model"
      ],
      "metadata": {
        "id": "vLWBydb-n2WH"
      }
    },
    {
      "cell_type": "code",
      "source": [
        "# Creating a column abundance in combined_dataset based on abundanceModel prediction on year\n",
        "combined_dataset['Abundance'] = abundanceModel.predict(combined_dataset['Year'].values.reshape(-1, 1))\n",
        "combined_dataset"
      ],
      "metadata": {
        "id": "4FTkE3lJrr_N"
      },
      "execution_count": null,
      "outputs": []
    },
    {
      "cell_type": "code",
      "source": [
        "# Dropping additional na values\n",
        "# Checking for NaN values in the dataset\n",
        "nan_summary = combined_dataset.isnull().sum()\n",
        "\n",
        "# Displaying columns with their respective count of NaN values\n",
        "print(\"NaN values in each column:\")\n",
        "print(nan_summary)\n",
        "\n",
        "# Optionally, filter columns that contain NaN values\n",
        "nan_columns = nan_summary[nan_summary > 0]\n",
        "print(\"\\nColumns with NaN values:\")\n",
        "print(nan_columns)\n",
        "\n",
        "combined_dataset = combined_dataset.dropna()\n",
        "print(combined_dataset.shape)"
      ],
      "metadata": {
        "id": "izVlOi8E1a2n"
      },
      "execution_count": null,
      "outputs": []
    },
    {
      "cell_type": "code",
      "source": [
        "from sklearn.metrics import mean_squared_error,mean_absolute_percentage_error,mean_absolute_error,explained_variance_score,r2_score\n",
        "\n",
        "# extracting our feature vector from the combined_dataset (BATS+BERM+HAWI)\n",
        "# extracting our lable's vector from Zooplankton dataset\n",
        "X = combined_dataset[['Depth', 'Salinity', 'Temp', 'd13C-DIC', 'DIC', 'ALK']]\n",
        "y = combined_dataset['Abundance']\n",
        "\n",
        "# combined_dataset has 1381 rows/samples where as dataset has only 62 rows/samples.\n",
        "# Either map Abundance from the dataset to each sample in combined_dataset based on Year\n",
        "# Or map average values of ['DIC', 'ALK', 'Depth', 'Salinity', 'Temp', 'd13C-DIC'] over a year to each year's abundance in dataset\n",
        "X_train, X_temp, y_train, y_temp = train_test_split(X, y, test_size=0.2, random_state=42)\n",
        "\n",
        "# Validation\n",
        "X_val, X_test, y_val, y_test = train_test_split(X_temp, y_temp, test_size=0.5, random_state=42)\n",
        "\n",
        "# Create the Linear Regression model\n",
        "model = LinearRegression()\n",
        "\n",
        "# Train the model\n",
        "model.fit(X_train, y_train)\n",
        "\n",
        "# Predict on the test set\n",
        "y_val_pred = model.predict(X_val) # Prediction for\n",
        "y_test_pred = model.predict(X_test)\n",
        "y_train_pred = model.predict(X_train)\n",
        "\n",
        "# Evaluate the model\n",
        "test_mse = mean_squared_error(y_test, y_test_pred)\n",
        "test_mae = mean_absolute_error(y_test, y_test_pred)\n",
        "test_maep = mean_absolute_percentage_error(y_test, y_test_pred)\n",
        "test_evs = explained_variance_score(y_test, y_test_pred)\n",
        "test_r2 = r2_score(y_test, y_test_pred)\n",
        "\n",
        "validation_mse = mean_squared_error(y_val, y_val_pred)\n",
        "validation_mae = mean_absolute_error(y_val, y_val_pred)\n",
        "validation_maep = mean_absolute_percentage_error(y_val, y_val_pred)\n",
        "validation_evs = explained_variance_score(y_val, y_val_pred)\n",
        "validation_r2 = r2_score(y_val, y_val_pred)\n",
        "\n",
        "train_mse = mean_squared_error(y_train, y_train_pred)\n",
        "train_mae = mean_absolute_error(y_train, y_train_pred)\n",
        "train_maep = mean_absolute_percentage_error(y_train, y_train_pred)\n",
        "train_evs = explained_variance_score(y_train, y_train_pred)\n",
        "train_r2 = r2_score(y_train, y_train_pred)\n",
        "\n",
        "print(\"\\nValidation Metrics:\")\n",
        "print(f\"Validation Mean Squared Error: {validation_mse:.12f}\")\n",
        "print(f\"Validation Mean Absolute Error (MAE): {validation_mae}\")\n",
        "print(f\"Validation Mean Absolute Error Percentage (MAE): {validation_maep}\")\n",
        "print(f\"Validation Explained Variance Score: {validation_evs}\")\n",
        "print(f\"Validation R-squared: {validation_r2:.2f}\")\n",
        "\n",
        "\n",
        "print(\"\\nTest Metrics:\")\n",
        "print(f\"Test Mean Squared Error: {test_mse:.12f}\")\n",
        "print(f\"Test Mean Absolute Error (MAE): {test_mae}\")\n",
        "print(f\"Test Mean Absolute Error Percentage (MAE): {test_maep}\")\n",
        "print(f\"Test Explained Variance Score: {test_evs}\")\n",
        "print(f\"Test R-squared: {test_r2:.2f}\")\n",
        "\n",
        "print(\"\\nTrain Metrics:\")\n",
        "print(f\"Train Mean Squared Error: {train_mse:.12f}\")\n",
        "print(f\"Train Mean Absolute Error (MAE): {train_mae}\")\n",
        "print(f\"Train Mean Absolute Error Percentage (MAE): {train_maep}\")\n",
        "print(f\"Train Explained Variance Score: {train_evs}\")\n",
        "print(f\"Train R-squared: {train_r2:.2f}\")"
      ],
      "metadata": {
        "id": "XzXkAYCan8G8"
      },
      "execution_count": null,
      "outputs": []
    },
    {
      "cell_type": "markdown",
      "source": [
        "# START OF MILESTONE 4"
      ],
      "metadata": {
        "id": "HukV0q0VkxvW"
      }
    },
    {
      "cell_type": "markdown",
      "source": [
        "#Milestone 4 Part 1: training our second model\n",
        "## Second Abundance model\n",
        "We are using 2 models for our project - one for predicting missing abundances (as an alternative for intrapolation) and one for predicting abundances based on pollution features. For milestone 3 we had made a simple linear regression model. But for milestone 4, we changed that to botstrapping method - to increase the accuracy of our model."
      ],
      "metadata": {
        "id": "uWwyyv1UsQjl"
      }
    },
    {
      "cell_type": "code",
      "source": [
        "import numpy as np\n",
        "from sklearn.utils import resample\n",
        "from sklearn.linear_model import LinearRegression\n",
        "from sklearn.metrics import mean_squared_error, mean_absolute_error, mean_absolute_percentage_error\n",
        "\n",
        "# Preparing the dataset\n",
        "X = dataset[['Fractional_Year']].values  # Feature\n",
        "y = dataset['Abundance'].values  # Target\n",
        "\n",
        "n_bootstraps = 100\n",
        "best_abundance_model = None\n",
        "best_maep = float('inf')  # Initialize with infinity\n",
        "best_coefficients = None\n",
        "best_intercept = None\n",
        "\n",
        "for i in range(n_bootstraps):\n",
        "    # Creating bootstrap sample\n",
        "    X_bootstrap, y_bootstrap = resample(X, y, replace=True, random_state=i)\n",
        "\n",
        "    # Splitting into train-test sets from bootstrap\n",
        "    X_train = X_bootstrap[:int(0.8 * len(X_bootstrap))]\n",
        "    y_train = y_bootstrap[:int(0.8 * len(y_bootstrap))]\n",
        "    X_test = X_bootstrap[int(0.8 * len(X_bootstrap)):]\n",
        "    y_test = y_bootstrap[int(0.8 * len(y_bootstrap)):]\n",
        "\n",
        "    # Creating and training the linear regression model\n",
        "    model = LinearRegression()\n",
        "    model.fit(X_train, y_train)\n",
        "\n",
        "    # Making predictions\n",
        "    y_pred = model.predict(X_test)\n",
        "\n",
        "    # Evaluating the model\n",
        "    maep = mean_absolute_percentage_error(y_test, y_pred)\n",
        "\n",
        "    # Check if this model is the best so far\n",
        "    if maep < best_maep:\n",
        "        best_maep = maep\n",
        "        best_abundance_model = model\n",
        "        best_coefficients = model.coef_\n",
        "        best_intercept = model.intercept_\n",
        "\n",
        "# Displaying the best model details\n",
        "print(f\"Best Mean Absolute Percentage Error: {best_maep}\")\n",
        "print(f\"Best Model Intercept: {best_intercept}\")\n",
        "print(f\"Best Model Coefficient: {best_coefficients[0]}\")\n"
      ],
      "metadata": {
        "id": "5K5cm_MGksya"
      },
      "execution_count": null,
      "outputs": []
    },
    {
      "cell_type": "markdown",
      "source": [
        "#Feature Expansion: Carbon Storage Potential\n",
        "Carbon storage potential measures a marine system's ability to absorb and retain carbon, primarily as bicarbonate ( HCO_3^- ) and carbonate ( CO_3^{2-} ) ions, influenced by factors like alkalinity (ALK), dissolved inorganic carbon (DIC), and depth. Higher values indicate a greater capacity to buffer against ocean acidification and sequester atmospheric \\( CO_2 \\), particularly in productive or shallow regions."
      ],
      "metadata": {
        "id": "NGz7Ga5a4Ouh"
      }
    },
    {
      "cell_type": "code",
      "source": [
        "# Feature expansion: Carbon Storage Potential that measures\n",
        "combined_dataset['Carbon_Storage_Potential'] = combined_dataset['ALK']*combined_dataset['DIC']/combined_dataset['DIC']\n",
        "combined_dataset"
      ],
      "metadata": {
        "id": "6juC8eGT38Ra"
      },
      "execution_count": null,
      "outputs": []
    },
    {
      "cell_type": "code",
      "source": [
        "# Dropping additional na values\n",
        "# Checking for NaN values in the dataset\n",
        "nan_summary = combined_dataset.isnull().sum()\n",
        "\n",
        "# Displaying columns with their respective count of NaN values\n",
        "print(\"NaN values in each column:\")\n",
        "print(nan_summary)\n",
        "\n",
        "# Optionally, filter columns that contain NaN values\n",
        "nan_columns = nan_summary[nan_summary > 0]\n",
        "print(\"\\nColumns with NaN values:\")\n",
        "print(nan_columns)\n",
        "\n",
        "combined_dataset = combined_dataset.dropna()\n",
        "print(combined_dataset.shape)"
      ],
      "metadata": {
        "id": "ePmLwuoEs0qu"
      },
      "execution_count": null,
      "outputs": []
    },
    {
      "cell_type": "markdown",
      "source": [
        "##Milestone 4: added new features - fractional year, seasons, cluster based on salinity and Alk levels\n",
        "- this is for the second data set"
      ],
      "metadata": {
        "id": "lpoNLAeMh8G7"
      }
    },
    {
      "cell_type": "code",
      "source": [
        "# Calculating fractional year\n",
        "combined_dataset['Fractional_Year'] = (\n",
        "    combined_dataset['Date'].dt.year\n",
        "    + (combined_dataset['Date'].dt.dayofyear - 1)\n",
        "    / combined_dataset['Date'].dt.is_leap_year.apply(lambda x: 366 if x else 365)\n",
        ")\n",
        "\n",
        "# Calculate Seasons based on date\n",
        "# Function to determine the season based on the fractional part of the year\n",
        "def assign_season(fractional_year):\n",
        "    fractional_part = fractional_year % 1  # Extract fractional part of the year\n",
        "    if 0.0 <= fractional_part < 0.25:  # Winter (Jan 1 - Mar 31)\n",
        "        return 'Winter'\n",
        "    elif 0.25 <= fractional_part < 0.5:  # Spring (Apr 1 - Jun 30)\n",
        "        return 'Spring'\n",
        "    elif 0.5 <= fractional_part < 0.75:  # Summer (Jul 1 - Sep 30)\n",
        "        return 'Summer'\n",
        "    else:  # Fall (Oct 1 - Dec 31)\n",
        "        return 'Fall'\n",
        "\n",
        "combined_dataset['Season'] = combined_dataset['Fractional_Year'].apply(assign_season)\n",
        "# a mapping for seasons to numbers\n",
        "season_to_number = {\n",
        "    'Winter': 0,\n",
        "    'Spring': 1,\n",
        "    'Summer': 2,\n",
        "    'Fall': 3\n",
        "}\n",
        "combined_dataset['Season_Numeric'] = combined_dataset['Season'].map(season_to_number)\n",
        "combined_dataset['Season'] = pd.Categorical(combined_dataset['Season'],\n",
        "                                            categories=['Winter', 'Spring', 'Summer', 'Fall'],\n",
        "                                            ordered=True)\n",
        "combined_dataset = combined_dataset.drop(columns=['Season'])\n",
        "print(combined_dataset[['Fractional_Year', 'Season_Numeric']].head())\n",
        "\n",
        "combined_dataset.loc[:,combined_dataset.columns != 'Date'] = combined_dataset.loc[:,combined_dataset.columns != 'Date'].apply(pd.to_numeric, errors='coerce')\n",
        "combined_dataset\n",
        "\n",
        "# Clustering data points based on salinity and ALK levels\n",
        "from sklearn.cluster import KMeans\n",
        "import seaborn as sns\n",
        "\n",
        "data_for_clustering = combined_dataset[['Salinity', 'ALK']].dropna()\n",
        "\n",
        "from sklearn.preprocessing import StandardScaler\n",
        "scaler = StandardScaler()\n",
        "data_normalized = scaler.fit_transform(data_for_clustering)\n",
        "\n",
        "kmeans = KMeans(n_clusters=4, random_state=42)\n",
        "data_for_clustering['Cluster'] = kmeans.fit_predict(data_normalized)\n",
        "\n",
        "combined_dataset.loc[data_for_clustering.index, 'Cluster'] = data_for_clustering['Cluster']\n",
        "\n",
        "plt.figure(figsize=(10, 6))\n",
        "sns.scatterplot(\n",
        "    x='Salinity',\n",
        "    y='ALK',\n",
        "    hue='Cluster',\n",
        "    data=data_for_clustering,\n",
        "    palette='viridis',\n",
        "    s=50\n",
        ")\n",
        "plt.title('Clustering of Salinity and ALK')\n",
        "plt.xlabel('Salinity')\n",
        "plt.ylabel('ALK')\n",
        "plt.legend(title='Cluster')\n",
        "plt.show()\n",
        "\n",
        "combined_dataset['Cluster'] = combined_dataset['Cluster'].fillna(-1).astype(int)\n",
        "\n"
      ],
      "metadata": {
        "id": "VTAW39hWji7t"
      },
      "execution_count": null,
      "outputs": []
    },
    {
      "cell_type": "code",
      "source": [
        "# Creating a column abundance in combined_dataset based on abundanceModel prediction on year\n",
        "combined_dataset['Abundance'] = best_abundance_model.predict(combined_dataset['Fractional_Year'].values.reshape(-1, 1))\n",
        "combined_dataset\n",
        "\n",
        "dataset = dataset.sort_values(by='Fractional_Year', ascending=True)\n",
        "dataset.reset_index(drop=True, inplace=True)\n",
        "#dataset"
      ],
      "metadata": {
        "id": "EiS_aQtCsmcU"
      },
      "execution_count": null,
      "outputs": []
    },
    {
      "cell_type": "code",
      "source": [
        "from sklearn.preprocessing import MinMaxScaler\n",
        "numeric_columns = ['Salinity', 'Temp', 'd13C-DIC','DIC_ALK_Ratio', 'Season_Numeric', 'Cluster', 'Carbon_Storage_Potential']\n",
        "combined_dataset[numeric_columns] = combined_dataset.groupby('Year')[numeric_columns].transform(lambda x: x.fillna(x.mean())).infer_objects()\n",
        "\n",
        "# Apply MinMaxScaler\n",
        "scaler = MinMaxScaler()\n",
        "combined_dataset[numeric_columns] = scaler.fit_transform(combined_dataset[numeric_columns])"
      ],
      "metadata": {
        "id": "oFe5FZZhACqp"
      },
      "execution_count": null,
      "outputs": []
    },
    {
      "cell_type": "markdown",
      "source": [
        "# Milestone 4: trying a new model to see if our accuracy improves (ElasticNet)"
      ],
      "metadata": {
        "id": "mYNFGPgviahB"
      }
    },
    {
      "cell_type": "code",
      "source": [
        "from sklearn.linear_model import ElasticNet\n",
        "from sklearn.model_selection import KFold, cross_validate\n",
        "from sklearn.metrics import mean_squared_error, mean_absolute_error , mean_absolute_percentage_error\n",
        "\n",
        "# Extracting feature vector from combined_dataset\n",
        "X = combined_dataset[['Salinity', 'Temp', 'd13C-DIC','DIC_ALK_Ratio', 'Season_Numeric', 'Cluster', 'Carbon_Storage_Potential']]\n",
        "y = combined_dataset['Abundance']\n",
        "\n",
        "# Create the ElasticNet model with L1 and L2 regularization\n",
        "model = ElasticNet(\n",
        "    alpha=0.2,              # Regularization strength\n",
        "    l1_ratio= 0.666,           # Balance between L1 (Lasso) and L2 (Ridge)\n",
        "    max_iter=1000,          # Maximum number of iterations for optimization\n",
        "    random_state=21         # Ensures reproducibility\n",
        ")\n",
        "\n",
        "# Set up K-fold cross-validation (e.g., 5-fold)\n",
        "kf = KFold(n_splits=4, shuffle=True, random_state=42)\n",
        "\n",
        "# Perform cross-validation and calculate performance metrics\n",
        "cv_results = cross_validate(\n",
        "    model, X, y, cv=kf,\n",
        "    scoring='neg_mean_squared_error',  # Use negative MSE for interpretation\n",
        "    return_train_score=True\n",
        ")\n",
        "\n",
        "# Convert negative MSE to positive for interpretation\n",
        "train_mse = -cv_results['train_score']\n",
        "test_mse = -cv_results['test_score']\n",
        "mse = mean_squared_error(y_test, y_pred)\n",
        "mae = mean_absolute_error(y_test, y_pred)\n",
        "maep = mean_absolute_percentage_error(y_test, y_pred)\n",
        "print(f\"Mean Squared Error: {mse}\")\n",
        "print(f\"Mean Absolute Error: {mae}\")\n",
        "print(f\"Mean Absolute Percentage Error: {maep}\")\n",
        "\n",
        "\n",
        "\n",
        "# Displaying results\n",
        "print(\"Train MSE for each fold:\", train_mse)\n",
        "print(\"Test MSE for each fold:\", test_mse)\n",
        "print(f\"Mean Train MSE: {train_mse.mean():.2f}\")\n",
        "print(f\"Mean Test MSE: {test_mse.mean():.2f}\")\n",
        "\n",
        "\n",
        "# Plotting the results\n",
        "plt.figure(figsize=(8, 6))\n",
        "plt.plot(range(1, len(train_mse) + 1), train_mse, label='Train MSE', marker='o')\n",
        "plt.plot(range(1, len(test_mse) + 1), test_mse, label='Test MSE', marker='s')\n",
        "\n",
        "# Adding labels and title\n",
        "plt.title('Train vs Test MSE for Each Fold')\n",
        "plt.xlabel('Fold')\n",
        "plt.ylabel('Mean Squared Error')\n",
        "plt.legend()\n",
        "\n",
        "# Show the plot\n",
        "plt.show()\n"
      ],
      "metadata": {
        "id": "NRWtATcp7QAn"
      },
      "execution_count": null,
      "outputs": []
    },
    {
      "cell_type": "markdown",
      "source": [
        "#Milestone 4: part 3\n",
        "Where does your model fit in the fitting graph? and What are the next models you are thinking of and why?\n",
        "\n",
        "\n",
        "**Answer:**\n",
        "\n",
        "Our model shows some signs of overfitting. The average Train MSE is 926,082.90, while the average Test MSE is slightly higher at 937,254.36. The average Train MAE is -790.63, and the Test MAE is similar at -794.27, indicating that while the model performs well on training data, its performance on test data is comparable, suggesting overfitting has minimal impact. The R² values for both the train (0.58) and test (0.58) sets are also close, further indicating that the model generalizes reasonably well despite some overfitting. To improve, we may consider feature selection or dimensionality reduction techniques like PCA to reduce multicollinearity and improve generalization.\n",
        "Using PCA can help mitigate overfitting by reducing the number of features and focusing the model on the most important patterns in the data. This leads to a simpler, more efficient model that is better equipped to generalize to new, unseen data. By applying PCA, you can maintain the predictive power of your model while reducing its complexity and susceptibility to overfitting.\n"
      ],
      "metadata": {
        "id": "xcGg4qoaGvFv"
      }
    },
    {
      "cell_type": "code",
      "source": [],
      "metadata": {
        "id": "LFQBqEQUG1pM"
      },
      "execution_count": null,
      "outputs": []
    },
    {
      "cell_type": "markdown",
      "source": [
        "#Conclusion\n",
        "\n",
        "Our second model utilized the principles of overfitting as indicated by the low and consistent training MSE compared to the fluctuating and initially higher testing MSE. While the combination of L1 and L2 regularization in Elastic Net helped control overfitting to some extent, it did not fully resolve the issue. This suggests that additional feature engineering or hyperparameter tuning may be necessary to improve model generalization, and reduce overfitting.\n",
        "\n",
        "In contrast, for our first model, we used linear regression and concluded that our model performs well with low errors on both training and testing datasets, showing no signs of overfitting or underfitting. This is probably, in part, due to the fact that our testing for overfitting was not as comprehensive. While linear regression provided a solid baseline, the second model's apparent overfitting highlights the need for more robust evaluation and tuning strategies.\n",
        "\n",
        "To enhance performance, further techniques such as feature selection or dimensionality reduction could be explored to remove redundant features and mitigate multicollinearity. Additional hyperparameter optimization for the Elastic Net's alpha and l1_ratio parameters may also help strike a better balance between bias and variance.\n",
        "\n"
      ],
      "metadata": {
        "id": "r6h1-li8Kapq"
      }
    }
  ]
}